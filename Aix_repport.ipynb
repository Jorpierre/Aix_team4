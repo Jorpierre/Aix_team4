{
 "cells": [
  {
   "cell_type": "markdown",
   "metadata": {},
   "source": [
    "Library importation"
   ]
  },
  {
   "cell_type": "code",
   "execution_count": null,
   "metadata": {},
   "outputs": [],
   "source": [
    "import numpy as np\n",
    "import pandas as pd\n",
    "import mathplotlib as plt\n",
    "from pathlib import Path\n",
    "from datetime import datetime"
   ]
  },
  {
   "cell_type": "markdown",
   "metadata": {},
   "source": [
    "Function definition"
   ]
  },
  {
   "cell_type": "code",
   "execution_count": null,
   "metadata": {},
   "outputs": [],
   "source": [
    "def dparser(d,t):\n",
    "    return pd.to_datetime(f'{d} {t}',format='%Y/%m/%d %H:%M:%S')\n",
    "def vega_reader(file):\n",
    "    print(f\" ... load file {file}\")\n",
    "    df=pd.read_csv(file,comment='#', names=['Date','Time','Vega','Source'], parse_dates={'datetime':[0,1]}, \n",
    "                   delim_whitespace=True,date_parser=dparser)\n",
    "    df.set_index('datetime',inplace=True)\n",
    "    df.drop(columns=['Source'],inplace=True)\n",
    "    return df\n",
    "\n",
    "def vdc_test(R, I, ref='REFERENCE', inst='INSTRUMENT'):\n",
    "   \n",
    "    vdc=pd.concat([R,I],axis=1)\n",
    "    vdc['difference']=vdc[ref]-vdc[inst] # add a 'diff' column \n",
    "    ax=vdc.plot(x='difference',y=inst,marker='.',title='VDC: '+ref+' - '+inst)\n",
    "    ax.axvline(0,color='red')\n",
    "    plt.ylabel('Sea level (m)')\n",
    "    ax.grid()\n",
    "\n",
    "def running_mean(df,input_col, t, output_col,frequency,manipulate_time=True):  #col=\"column_name\", manipulate time = true or false\n",
    "    \"\"\"t is the integration period,input_col= data column, output_col=name of the new column\n",
    "    frequency is the desired sampling rate of the data,\n",
    "    if we manipulate the time then the index will be uniform minute with second zero\n",
    "    \"\"\"\n",
    "    int_period = pd.Timedelta(seconds=t)\n",
    "    if manipulate_time:\n",
    "            index_range = pd.date_range(start='2021-09-28 09:50:00', end='2021-09-29 07:00:00', freq=frequency)\n",
    "    else:        \n",
    "            index_range = pd.date_range(start='2021-09-28 09:52:52', end='2021-09-29 06:52:52', freq=frequency)\n",
    "    \n",
    "    sl = np.zeros(len(index_range))\n",
    "    \n",
    "    for i in range(len(index_range)):\n",
    "        sl[i] = df[index_range[i]-int_period:index_range[i]+int_period][input_col].mean()\n",
    "        \n",
    "    df_out = pd.DataFrame(sl, index=index_range, columns=[output_col])\n",
    "    return df_out"
   ]
  },
  {
   "cell_type": "markdown",
   "metadata": {},
   "source": [
    "The measurement done by the Vega Radar tide gauge are not given to any reference. How ever it's of the out most important that those data are, otherwise they are meaningless. Thus we need to express the position of our Radar with respect to the hydrographic zero and, in a second time to the reference ellipsoïde GRS80ellipsoid in the RGF93 geocentric reference frame.\n",
    "\n",
    "Three session of leveling has been made. the fisrt one conscidering the \"Marche Arrière\" to be the benchmark F and the \"Marche Avant\" to the the Vega RADAR, while the 2 last one \"Marche Arrière\" and \"Marche Avant\" have been switch. The RADAR elvation will be the mean of the elevations given by thos three measurment.\n",
    "\n",
    "The first step will be to give the elevationof our instrument with respect to a near by Benchmark(F).\n",
    "How ever a problem arise when we take in acount that  there is a constant offset of 0.019 m between the spot were the radar do the measurment and the spot where the ruler was put to make the leveling measurment.As suche the real Elevation(D) of the radar would be the Measured Elevation minus this offset. \n",
    "\n",
    "D=-0.0188 m\n",
    "\n",
    "<img src=\"https://i.imgur.com/KGEflwg.png\"/>\n",
    "\n",
    "If we go bach to the definition of the elevation D :\n",
    "D=Ar-Av <=> D = Hav-Har = Hv-Hf\n",
    "then if D < 0 this mean that Hv < Hf ie the RADAR is bellow the benchmark.\n",
    "\n",
    "The benchmark can then be linked to the hydrographic zero and the reference ellipsoid GRS80 of the RGF93.\n",
    "\n",
    "the produced off set need to be taken in account in order to express our data in a meaningfull reference system. Then they can be properly compared to the SHOM data for Aix Island.\n",
    "As Stated earlier we determine the elevation of our Tide Gauge with respect to the Benchmark F. The ladder being link to the rest of the reference Benchmark, as shown in the Tide observation paper oh the SHOM. By drawing a \"path\" from our tide gauge to the reference we would like to use we can determine it's elevation with respect to that reference.\n",
    "\n",
    "<img src=\"https://i.imgur.com/xdi47ML.png\"/>\n",
    "\n",
    "Since our VEGA was 0.0188 m bellow the Benchmark, for our measure to be at the same level than the benchmark we need to ADD this eleveation. But since F is above the B benchmark we need to SUBTRACT the elevation for ou measurment to be at the same level than B. Thus we can devise a \"path\" between the diferent benchmark to determine the Tide Gauge elevation \n",
    "with respecte to the two references, like so :\n",
    "\n",
    "Vega=>F=>B=>hydrographic zero\n",
    "\n",
    "Vega=>F=>B=>P=>R=>Q=>GRS80"
   ]
  },
  {
   "cell_type": "code",
   "execution_count": 4,
   "metadata": {},
   "outputs": [
    {
     "name": "stdout",
     "output_type": "stream",
     "text": [
      "Hydrographic elevation -7.8292 m\n",
      "GRS80 elevation -51.1442 m\n"
     ]
    }
   ],
   "source": [
    "#offset to the hydrographic zero and reference ellipsoïde GRS80\n",
    "\"\"\"I'm not sure if this part should stay in the final for m of the porject. it's fairly simple but can be used as \n",
    "a start for a function that put the offset to every data we got. i'll put a figure to explain \n",
    "the logic behind those offset \"\"\"\n",
    "D=-0.0188\n",
    "VF=-D\n",
    "FB=-0.198\n",
    "BZh=-7.650\n",
    "BP=0.435\n",
    "PR=4.257\n",
    "RQ=3.370\n",
    "QGRS80=-59.027\n",
    "VZh=VF+FB+BZh\n",
    "print(\"Hydrographic elevation\",VZh,\"m\" )\n",
    "VGRS80=VF+FB+BP+PR+RQ+QGRS80\n",
    "print(\"GRS80 elevation\",VGRS80,\"m\" )"
   ]
  },
  {
   "cell_type": "markdown",
   "metadata": {},
   "source": [
    "To exprime the Sea Level within those reference frame it's only a matter of applying those correction. It is impereative that the Hydrographic zero correction is applied to the sea level data before the comparaison to the SHOM data for Aix Iland. Other whise the comparaison is meaningless."
   ]
  },
  {
   "cell_type": "code",
   "execution_count": null,
   "metadata": {},
   "outputs": [],
   "source": []
  }
 ],
 "metadata": {
  "kernelspec": {
   "display_name": "Python 3",
   "language": "python",
   "name": "python3"
  },
  "language_info": {
   "codemirror_mode": {
    "name": "ipython",
    "version": 3
   },
   "file_extension": ".py",
   "mimetype": "text/x-python",
   "name": "python",
   "nbconvert_exporter": "python",
   "pygments_lexer": "ipython3",
   "version": "3.8.3"
  }
 },
 "nbformat": 4,
 "nbformat_minor": 4
}
